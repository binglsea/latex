{
 "cells": [
  {
   "cell_type": "code",
   "execution_count": 23,
   "id": "b4413e4c",
   "metadata": {},
   "outputs": [
    {
     "name": "stdout",
     "output_type": "stream",
     "text": [
      "A4 纸张的尺寸是 210 毫米 × 297 毫米,\n",
      "  或 8.267716535433072 英寸 x 11.692913385826772 英寸。\n",
      "  约 8.27 英寸 x 11.69 英寸。\n",
      "美国信纸的尺寸是 8.5 英寸 × 11 英寸,\n",
      "  或 215.9 毫米 x 279.4 毫米。\n"
     ]
    }
   ],
   "source": [
    "a4_width_mm = 210\n",
    "a4_height_mm = 297\n",
    "\n",
    "letter_width_in = 8.5\n",
    "letter_height_in = 11\n",
    "\n",
    "inch_to_mm = 25.4\n",
    "\n",
    "print(\"A4 纸张的尺寸是 {} 毫米 × {} 毫米,\".format(\n",
    "    a4_width_mm, a4_height_mm))\n",
    "print(\"  或 {} 英寸 x {} 英寸。\".format(\n",
    "    a4_width_mm/inch_to_mm, a4_height_mm/inch_to_mm))\n",
    "print(\"  约 {:2.2f} 英寸 x {:2.2f} 英寸。\".format(\n",
    "    a4_width_mm/inch_to_mm, a4_height_mm/inch_to_mm))\n",
    "\n",
    "print(\"美国信纸的尺寸是 {} 英寸 × {} 英寸,\".format(\n",
    "    letter_width_in, letter_height_in))\n",
    "print(\"  或 {:3.1f} 毫米 x {:3.1f} 毫米。\".format(\n",
    "    letter_width_in * inch_to_mm, letter_height_in * inch_to_mm))"
   ]
  },
  {
   "cell_type": "code",
   "execution_count": 27,
   "id": "f028003e",
   "metadata": {},
   "outputs": [
    {
     "name": "stdout",
     "output_type": "stream",
     "text": [
      "√2 =  1.4142135623730951\n",
      "2 的平方根 =  1.4142135623730951\n"
     ]
    }
   ],
   "source": [
    "from math import sqrt\n",
    "print(\"√2 = \", sqrt(2))\n",
    "print(\"2 的平方根 = \", 2**.5)"
   ]
  },
  {
   "cell_type": "code",
   "execution_count": 39,
   "id": "ce8cabbd",
   "metadata": {},
   "outputs": [
    {
     "name": "stdout",
     "output_type": "stream",
     "text": [
      "A系列纸张的理论尺寸:\n",
      " A0: 841 毫米 x 1189 毫米\n",
      " A1: 595 毫米 x  841 毫米\n",
      " A2: 420 毫米 x  595 毫米\n",
      " A3: 297 毫米 x  420 毫米\n",
      " A4: 210 毫米 x  297 毫米\n",
      " A5: 149 毫米 x  210 毫米\n",
      " A6: 105 毫米 x  149 毫米\n",
      " A7:  74 毫米 x  105 毫米\n",
      " A8:  53 毫米 x   74 毫米\n",
      " A9:  37 毫米 x   53 毫米\n",
      "A10:  26 毫米 x   37 毫米\n"
     ]
    }
   ],
   "source": [
    "#%% A系列纸张的理论尺寸\n",
    "w = 1_000_000**.5 / 2**.25 #下划线\"_\"分隔仅为阅读方便，无实际编程作用\n",
    "h = 1_000_000**.5 * 2**.25\n",
    "print(\"A系列纸张的理论尺寸:\")\n",
    "for i in range(0, 11):\n",
    "    # {:>3} 表示 3 个字符向右看齐。\n",
    "    # {:3.0f}为浮点数的整数部分预置 3 个位置向右看齐，小数点后面保留 0 位数\n",
    "    print(\"{:>3}: {:3.0f} 毫米 x {:4.0f} 毫米\".format('A'+str(i), w, h))\n",
    "    tmp = w   #暂存原宽度备作下一个高度\n",
    "    w = h/2   #新宽度为原高度的一半\n",
    "    h = tmp   #新高度为原宽度\n",
    "    "
   ]
  },
  {
   "cell_type": "code",
   "execution_count": null,
   "id": "4b3fb697",
   "metadata": {},
   "outputs": [],
   "source": []
  }
 ],
 "metadata": {
  "kernelspec": {
   "display_name": "Python 3 (ipykernel)",
   "language": "python",
   "name": "python3"
  },
  "language_info": {
   "codemirror_mode": {
    "name": "ipython",
    "version": 3
   },
   "file_extension": ".py",
   "mimetype": "text/x-python",
   "name": "python",
   "nbconvert_exporter": "python",
   "pygments_lexer": "ipython3",
   "version": "3.8.2"
  }
 },
 "nbformat": 4,
 "nbformat_minor": 5
}
