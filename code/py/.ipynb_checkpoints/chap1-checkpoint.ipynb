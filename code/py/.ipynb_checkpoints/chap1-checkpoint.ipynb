{
 "cells": [
  {
   "cell_type": "code",
   "execution_count": 20,
   "id": "b4413e4c",
   "metadata": {},
   "outputs": [
    {
     "name": "stdout",
     "output_type": "stream",
     "text": [
      "A4 纸张的尺寸是 210 毫米 × 297 毫米,\n",
      "  或 8.267716535433072 英寸 x 11.692913385826772 英寸。\n",
      "  约 8.27 英寸 x 11.69 英寸。\n",
      "美国信纸的尺寸是 8.5 英寸 × 11 英寸,\n",
      "  或 215.89999999999998 毫米 x 279.4 毫米。\n",
      "  约 215.9 毫米 x 279.4 毫米。\n"
     ]
    }
   ],
   "source": [
    "a4_width_mm = 210\n",
    "a4_height_mm = 297\n",
    "\n",
    "letter_width_in = 8.5\n",
    "letter_height_in = 11\n",
    "\n",
    "inch_to_mm = 25.4\n",
    "\n",
    "print(\"A4 纸张的尺寸是 {} 毫米 × {} 毫米,\".format(\n",
    "    a4_width_mm, a4_height_mm))\n",
    "print(\"  或 {} 英寸 x {} 英寸。\".format(\n",
    "    a4_width_mm/inch_to_mm, a4_height_mm/inch_to_mm))\n",
    "print(\"  约 {:2.2f} 英寸 x {:2.2f} 英寸。\".format(\n",
    "    a4_width_mm/inch_to_mm, a4_height_mm/inch_to_mm))\n",
    "\n",
    "print(\"美国信纸的尺寸是 {} 英寸 × {} 英寸,\".format(\n",
    "    letter_width_in, letter_height_in))\n",
    "print(\"  或 {} 毫米 x {} 毫米。\".format(\n",
    "    letter_width_in * inch_to_mm, letter_height_in * inch_to_mm))\n",
    "print(\"  约 {:3.1f} 毫米 x {:3.1f} 毫米。\".format(\n",
    "    letter_width_in * inch_to_mm, letter_height_in * inch_to_mm))"
   ]
  },
  {
   "cell_type": "code",
   "execution_count": null,
   "id": "f028003e",
   "metadata": {},
   "outputs": [],
   "source": []
  }
 ],
 "metadata": {
  "kernelspec": {
   "display_name": "Python 3 (ipykernel)",
   "language": "python",
   "name": "python3"
  },
  "language_info": {
   "codemirror_mode": {
    "name": "ipython",
    "version": 3
   },
   "file_extension": ".py",
   "mimetype": "text/x-python",
   "name": "python",
   "nbconvert_exporter": "python",
   "pygments_lexer": "ipython3",
   "version": "3.8.2"
  }
 },
 "nbformat": 4,
 "nbformat_minor": 5
}
