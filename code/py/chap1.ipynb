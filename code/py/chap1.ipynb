{
 "cells": [
  {
   "cell_type": "code",
   "execution_count": 23,
   "id": "b4413e4c",
   "metadata": {},
   "outputs": [
    {
     "name": "stdout",
     "output_type": "stream",
     "text": [
      "A4 纸张的尺寸是 210 毫米 × 297 毫米,\n",
      "  或 8.267716535433072 英寸 x 11.692913385826772 英寸。\n",
      "  约 8.27 英寸 x 11.69 英寸。\n",
      "美国信纸的尺寸是 8.5 英寸 × 11 英寸,\n",
      "  或 215.9 毫米 x 279.4 毫米。\n"
     ]
    }
   ],
   "source": [
    "a4_width_mm = 210\n",
    "a4_height_mm = 297\n",
    "\n",
    "letter_width_in = 8.5\n",
    "letter_height_in = 11\n",
    "\n",
    "inch_to_mm = 25.4\n",
    "\n",
    "print(\"A4 纸张的尺寸是 {} 毫米 × {} 毫米,\".format(\n",
    "    a4_width_mm, a4_height_mm))\n",
    "print(\"  或 {} 英寸 x {} 英寸。\".format(\n",
    "    a4_width_mm/inch_to_mm, a4_height_mm/inch_to_mm))\n",
    "print(\"  约 {:2.2f} 英寸 x {:2.2f} 英寸。\".format(\n",
    "    a4_width_mm/inch_to_mm, a4_height_mm/inch_to_mm))\n",
    "\n",
    "print(\"美国信纸的尺寸是 {} 英寸 × {} 英寸,\".format(\n",
    "    letter_width_in, letter_height_in))\n",
    "print(\"  或 {:3.1f} 毫米 x {:3.1f} 毫米。\".format(\n",
    "    letter_width_in * inch_to_mm, letter_height_in * inch_to_mm))"
   ]
  },
  {
   "cell_type": "code",
   "execution_count": 27,
   "id": "f028003e",
   "metadata": {},
   "outputs": [
    {
     "name": "stdout",
     "output_type": "stream",
     "text": [
      "√2 =  1.4142135623730951\n",
      "2 的平方根 =  1.4142135623730951\n"
     ]
    }
   ],
   "source": [
    "from math import sqrt\n",
    "print(\"√2 = \", sqrt(2))\n",
    "print(\"2 的平方根 = \", 2**.5)"
   ]
  },
  {
   "cell_type": "code",
   "execution_count": 43,
   "id": "11620bd0",
   "metadata": {
    "scrolled": true
   },
   "outputs": [
    {
     "name": "stdout",
     "output_type": "stream",
     "text": [
      "A系列纸张的理论尺寸:\n",
      " A0: 841 毫米 x 1189 毫米   840.90 毫米 x 1189.21 毫米     840毫米 x 1189毫米\n",
      " A1: 595 毫米 x  841 毫米   594.60 毫米 x  840.90 毫米     594毫米 x  840毫米\n",
      " A2: 420 毫米 x  595 毫米   420.45 毫米 x  594.60 毫米     420毫米 x  594毫米\n",
      " A3: 297 毫米 x  420 毫米   297.30 毫米 x  420.45 毫米     297毫米 x  420毫米\n",
      " A4: 210 毫米 x  297 毫米   210.22 毫米 x  297.30 毫米     210毫米 x  297毫米\n",
      " A5: 149 毫米 x  210 毫米   148.65 毫米 x  210.22 毫米     148毫米 x  210毫米\n",
      " A6: 105 毫米 x  149 毫米   105.11 毫米 x  148.65 毫米     105毫米 x  148毫米\n",
      " A7:  74 毫米 x  105 毫米    74.33 毫米 x  105.11 毫米      74毫米 x  105毫米\n",
      " A8:  53 毫米 x   74 毫米    52.56 毫米 x   74.33 毫米      52毫米 x   74毫米\n",
      " A9:  37 毫米 x   53 毫米    37.16 毫米 x   52.56 毫米      37毫米 x   52毫米\n",
      "A10:  26 毫米 x   37 毫米    26.28 毫米 x   37.16 毫米      26毫米 x   37毫米\n"
     ]
    }
   ],
   "source": [
    "#%% A系列纸张的理论尺寸\n",
    "w = 1_000 / 2**.25 #下划线\"_\"分隔仅为阅读方便，无实际编程作用\n",
    "h = 1_000 * 2**.25 # 2**.25是2的4次方根即2的0.25次幂\n",
    "print(\"A系列纸张的理论尺寸:\")\n",
    "for i in range(0, 11):\n",
    "    # {:>3} 表示 3 个字符向右看齐。宽高四舍五入到整数\n",
    "    print(\"{:>3}: {:3.0f} 毫米 x {:4.0f} 毫米\".format('A'+str(i), w, h),\n",
    "          end='  ')\n",
    "    # {:6.2f}: 包括小数点，浮点数展示 6 个字符向右看齐，小数点后面保留 2 位数\n",
    "    print(\" {:6.2f} 毫米 x {:7.2f} 毫米\".format(w, h), end='  ')\n",
    "    # 用 int() 丢弃小数部分，宽高仅保留整数部分\n",
    "    print(\"   {:3.0f}毫米 x {:4.0f}毫米\".format(int(w), int(h)))\n",
    "    tmp = w   #暂存原宽度备作下一个高度\n",
    "    w = h/2   #新宽度为原高度的一半\n",
    "    h = tmp   #新高度为原宽度\n",
    "    "
   ]
  },
  {
   "cell_type": "code",
   "execution_count": 44,
   "id": "005039f9",
   "metadata": {},
   "outputs": [
    {
     "name": "stdout",
     "output_type": "stream",
     "text": [
      "B列纸张的理论尺寸:\n",
      " B0    1开: 1000毫米 x 1414毫米\n",
      " B1    2开:  707毫米 x 1000毫米\n",
      " B2    4开:  500毫米 x  707毫米\n",
      " B3    8开:  353毫米 x  500毫米\n",
      " B4   16开:  250毫米 x  353毫米\n",
      " B5   32开:  176毫米 x  250毫米\n",
      " B6   64开:  125毫米 x  176毫米\n",
      " B7  128开:   88毫米 x  125毫米\n",
      " B8  256开:   62毫米 x   88毫米\n",
      " B9  512开:   44毫米 x   62毫米\n",
      "B10 1024开:   31毫米 x   44毫米\n"
     ]
    }
   ],
   "source": [
    "#%% B0 至 B10 系列纸张的理论尺寸 = ISO 216 标准尺寸\n",
    "w = 1000\n",
    "h = 1414\n",
    "print(\"B列纸张的理论和 ISO 216 标准尺寸:\")\n",
    "i = 0\n",
    "while i < 11:\n",
    "    b_i = \"{:>3} {:-4}开\".format('B'+str(i), 2**i)\n",
    "    print(\"{}: {:4.0f}毫米 x {:4.0f}毫米\".format(b_i, int(w), int(h)))\n",
    "    tmp = w   #暂存原宽度备作下一个高度\n",
    "    w = h/2   #新宽度为原高度的一半\n",
    "    h = tmp   #新高度为原宽度\n",
    "    i += 1"
   ]
  },
  {
   "cell_type": "code",
   "execution_count": null,
   "id": "7f759e26",
   "metadata": {},
   "outputs": [],
   "source": []
  }
 ],
 "metadata": {
  "kernelspec": {
   "display_name": "Python 3 (ipykernel)",
   "language": "python",
   "name": "python3"
  },
  "language_info": {
   "codemirror_mode": {
    "name": "ipython",
    "version": 3
   },
   "file_extension": ".py",
   "mimetype": "text/x-python",
   "name": "python",
   "nbconvert_exporter": "python",
   "pygments_lexer": "ipython3",
   "version": "3.8.2"
  }
 },
 "nbformat": 4,
 "nbformat_minor": 5
}
